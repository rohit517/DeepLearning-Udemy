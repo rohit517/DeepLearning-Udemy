{
 "cells": [
  {
   "cell_type": "markdown",
   "metadata": {},
   "source": [
    " Project 1 - Artificial Neural Network - Udemy Deep Learning \n",
    " \n",
    " Predicting Customer Churn"
   ]
  },
  {
   "cell_type": "code",
   "execution_count": 1,
   "metadata": {},
   "outputs": [
    {
     "name": "stderr",
     "output_type": "stream",
     "text": [
      "Using Theano backend.\n",
      "WARNING (theano.configdefaults): g++ not available, if using conda: `conda install m2w64-toolchain`\n",
      "WARNING (theano.configdefaults): g++ not detected ! Theano will be unable to execute optimized C-implementations (for both CPU and GPU) and will default to Python implementations. Performance will be severely degraded. To remove this warning, set Theano flags cxx to an empty string.\n"
     ]
    }
   ],
   "source": [
    "#Import Statements\n",
    "\n",
    "import numpy as np\n",
    "import matplotlib.pyplot as plt\n",
    "import pandas as pd\n",
    "import keras\n",
    "from keras.models import Sequential\n",
    "from keras.layers import Dense\n",
    "from sklearn.preprocessing import LabelEncoder, OneHotEncoder\n",
    "from sklearn.model_selection import train_test_split\n",
    "from sklearn.preprocessing import StandardScaler\n",
    "from sklearn.metrics import confusion_matrix\n"
   ]
  },
  {
   "cell_type": "code",
   "execution_count": 2,
   "metadata": {},
   "outputs": [],
   "source": [
    "#Import the datasets\n",
    "\n",
    "dataset = pd.read_csv('Churn_Modelling.csv')\n",
    "X = dataset.iloc[:, 3:13].values\n",
    "y = dataset.iloc[:, 13].values\n"
   ]
  },
  {
   "cell_type": "code",
   "execution_count": 3,
   "metadata": {},
   "outputs": [],
   "source": [
    "# Encoding categorical data\n",
    "\n",
    "labelencoder_X_1 = LabelEncoder()\n",
    "X[:, 1] = labelencoder_X_1.fit_transform(X[:, 1])\n",
    "labelencoder_X_2 = LabelEncoder()\n",
    "X[:, 2] = labelencoder_X_2.fit_transform(X[:, 2])\n",
    "onehotencoder = OneHotEncoder(categorical_features = [1])\n",
    "X = onehotencoder.fit_transform(X).toarray()\n",
    "X = X[:, 1:]\n"
   ]
  },
  {
   "cell_type": "code",
   "execution_count": 4,
   "metadata": {},
   "outputs": [],
   "source": [
    "# Splitting the dataset into the Training set and Test set\n",
    "\n",
    "X_train, X_test, y_train, y_test = train_test_split(X, y, test_size = 0.2, random_state = 0)\n"
   ]
  },
  {
   "cell_type": "code",
   "execution_count": 5,
   "metadata": {},
   "outputs": [],
   "source": [
    "# Feature Scaling\n",
    "\n",
    "sc = StandardScaler()\n",
    "X_train = sc.fit_transform(X_train)\n",
    "X_test = sc.transform(X_test)\n"
   ]
  },
  {
   "cell_type": "code",
   "execution_count": 6,
   "metadata": {},
   "outputs": [],
   "source": [
    "# Initialising the ANN\n",
    "\n",
    "classifier = Sequential()\n",
    "\n",
    "# Adding the input layer and the first hidden layer\n",
    "classifier.add(Dense(units = 6, kernel_initializer = 'uniform', activation = 'relu', input_dim = 11))\n",
    "\n",
    "# Adding the second hidden layer\n",
    "classifier.add(Dense(units = 6, kernel_initializer = 'uniform', activation = 'relu'))\n",
    "\n",
    "# Adding the output layer\n",
    "classifier.add(Dense(units = 1, kernel_initializer = 'uniform', activation = 'sigmoid'))\n",
    "\n",
    "# Compiling the ANN\n",
    "classifier.compile(optimizer = 'adam', loss = 'binary_crossentropy', metrics = ['accuracy'])\n"
   ]
  },
  {
   "cell_type": "code",
   "execution_count": 7,
   "metadata": {},
   "outputs": [
    {
     "name": "stdout",
     "output_type": "stream",
     "text": [
      "Epoch 1/50\n",
      "11s - loss: 0.4845 - acc: 0.7956\n",
      "Epoch 2/50\n",
      "11s - loss: 0.4130 - acc: 0.8217\n",
      "Epoch 3/50\n",
      "11s - loss: 0.3992 - acc: 0.8259\n",
      "Epoch 4/50\n",
      "11s - loss: 0.3895 - acc: 0.8285\n",
      "Epoch 5/50\n",
      "10s - loss: 0.3824 - acc: 0.8304\n",
      "Epoch 6/50\n",
      "10s - loss: 0.3772 - acc: 0.8331\n",
      "Epoch 7/50\n",
      "10s - loss: 0.3739 - acc: 0.8412\n",
      "Epoch 8/50\n",
      "10s - loss: 0.3712 - acc: 0.8465\n",
      "Epoch 9/50\n",
      "10s - loss: 0.3689 - acc: 0.8465\n",
      "Epoch 10/50\n",
      "10s - loss: 0.3669 - acc: 0.8490\n",
      "Epoch 11/50\n",
      "10s - loss: 0.3652 - acc: 0.8499\n",
      "Epoch 12/50\n",
      "11s - loss: 0.3638 - acc: 0.8514\n",
      "Epoch 13/50\n",
      "11s - loss: 0.3616 - acc: 0.8507\n",
      "Epoch 14/50\n",
      "11s - loss: 0.3605 - acc: 0.8515\n",
      "Epoch 15/50\n",
      "11s - loss: 0.3589 - acc: 0.8532\n",
      "Epoch 16/50\n",
      "11s - loss: 0.3580 - acc: 0.8561\n",
      "Epoch 17/50\n",
      "11s - loss: 0.3580 - acc: 0.8524\n",
      "Epoch 18/50\n",
      "11s - loss: 0.3564 - acc: 0.8557\n",
      "Epoch 19/50\n",
      "11s - loss: 0.3563 - acc: 0.8549\n",
      "Epoch 20/50\n",
      "11s - loss: 0.3555 - acc: 0.8560\n",
      "Epoch 21/50\n",
      "11s - loss: 0.3544 - acc: 0.8557\n",
      "Epoch 22/50\n",
      "12s - loss: 0.3542 - acc: 0.8550\n",
      "Epoch 23/50\n",
      "11s - loss: 0.3539 - acc: 0.8574\n",
      "Epoch 24/50\n",
      "11s - loss: 0.3525 - acc: 0.8579\n",
      "Epoch 25/50\n",
      "11s - loss: 0.3523 - acc: 0.8554\n",
      "Epoch 26/50\n",
      "11s - loss: 0.3523 - acc: 0.8557\n",
      "Epoch 27/50\n",
      "11s - loss: 0.3518 - acc: 0.8542\n",
      "Epoch 28/50\n",
      "11s - loss: 0.3513 - acc: 0.8562\n",
      "Epoch 29/50\n",
      "11s - loss: 0.3510 - acc: 0.8584\n",
      "Epoch 30/50\n",
      "10s - loss: 0.3504 - acc: 0.8552\n",
      "Epoch 31/50\n",
      "10s - loss: 0.3501 - acc: 0.8559\n",
      "Epoch 32/50\n",
      "10s - loss: 0.3501 - acc: 0.8560\n",
      "Epoch 33/50\n",
      "10s - loss: 0.3488 - acc: 0.8560\n",
      "Epoch 34/50\n",
      "10s - loss: 0.3487 - acc: 0.8567\n",
      "Epoch 35/50\n",
      "10s - loss: 0.3480 - acc: 0.8596\n",
      "Epoch 36/50\n",
      "10s - loss: 0.3474 - acc: 0.8566\n",
      "Epoch 37/50\n",
      "10s - loss: 0.3467 - acc: 0.8570\n",
      "Epoch 38/50\n",
      "10s - loss: 0.3465 - acc: 0.8590\n",
      "Epoch 39/50\n",
      "10s - loss: 0.3456 - acc: 0.8575\n",
      "Epoch 40/50\n",
      "11s - loss: 0.3465 - acc: 0.8579\n",
      "Epoch 41/50\n",
      "10s - loss: 0.3458 - acc: 0.8570\n",
      "Epoch 42/50\n",
      "11s - loss: 0.3455 - acc: 0.8575\n",
      "Epoch 43/50\n",
      "10s - loss: 0.3449 - acc: 0.8586\n",
      "Epoch 44/50\n",
      "10s - loss: 0.3441 - acc: 0.8574\n",
      "Epoch 45/50\n",
      "11s - loss: 0.3443 - acc: 0.8580\n",
      "Epoch 46/50\n",
      "11s - loss: 0.3433 - acc: 0.8580\n",
      "Epoch 47/50\n",
      "11s - loss: 0.3431 - acc: 0.8592\n",
      "Epoch 48/50\n",
      "10s - loss: 0.3425 - acc: 0.8592\n",
      "Epoch 49/50\n",
      "10s - loss: 0.3426 - acc: 0.8592\n",
      "Epoch 50/50\n",
      "10s - loss: 0.3423 - acc: 0.8614\n"
     ]
    },
    {
     "data": {
      "text/plain": [
       "<keras.callbacks.History at 0x227f51f0a58>"
      ]
     },
     "execution_count": 7,
     "metadata": {},
     "output_type": "execute_result"
    }
   ],
   "source": [
    "# Fitting the ANN to the Training set\n",
    "\n",
    "classifier.fit(X_train, y_train, batch_size = 10, epochs = 50, verbose = 2)\n"
   ]
  },
  {
   "cell_type": "code",
   "execution_count": 8,
   "metadata": {},
   "outputs": [],
   "source": [
    "# Predicting the Test set results\n",
    "\n",
    "y_pred = classifier.predict(X_test)\n",
    "y_pred = (y_pred > 0.5)\n"
   ]
  },
  {
   "cell_type": "code",
   "execution_count": 9,
   "metadata": {},
   "outputs": [
    {
     "name": "stdout",
     "output_type": "stream",
     "text": [
      "[[1494  101]\n",
      " [ 185  220]]\n"
     ]
    }
   ],
   "source": [
    "# Making the Confusion Matrix\n",
    "\n",
    "cm = confusion_matrix(y_test, y_pred)\n",
    "print (cm)"
   ]
  },
  {
   "cell_type": "code",
   "execution_count": 10,
   "metadata": {},
   "outputs": [
    {
     "name": "stdout",
     "output_type": "stream",
     "text": [
      "[[False]]\n"
     ]
    }
   ],
   "source": [
    "# Predicting output for a single Data\n",
    "\n",
    "new_prediction = classifier.predict(sc.transform(np.array([[0.0, 0, 600, 1, 40, 3, 60000, 2, 1, 1, 50000]])))\n",
    "new_prediction = (new_prediction > 0.5)\n",
    "print (new_prediction)"
   ]
  },
  {
   "cell_type": "code",
   "execution_count": null,
   "metadata": {},
   "outputs": [],
   "source": []
  }
 ],
 "metadata": {
  "kernelspec": {
   "display_name": "Python 3",
   "language": "python",
   "name": "python3"
  },
  "language_info": {
   "codemirror_mode": {
    "name": "ipython",
    "version": 3
   },
   "file_extension": ".py",
   "mimetype": "text/x-python",
   "name": "python",
   "nbconvert_exporter": "python",
   "pygments_lexer": "ipython3",
   "version": "3.6.2"
  }
 },
 "nbformat": 4,
 "nbformat_minor": 2
}
